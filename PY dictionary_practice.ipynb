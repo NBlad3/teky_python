{
 "cells": [
  {
   "cell_type": "markdown",
   "id": "5d68ae58",
   "metadata": {},
   "source": [
    "### Bài tập về dictionary"
   ]
  },
  {
   "cell_type": "markdown",
   "id": "01b026a6",
   "metadata": {},
   "source": [
    "**1. Khởi tạo dictionary**\n",
    "\n",
    "Cho hai list như sau:\n",
    "```python\n",
    "fruits = ['Apple', 'Mango', 'Strawberry', 'Lemon', 'Tomato']\n",
    "colors = ['Red', 'Yellow', 'Carmine Pink', 'Green', 'Red']\n",
    "```\n",
    "Từ hai list trên hãy tạo một dictionary để lưu trữ thông tin trái cây + màu tương ứng (mỗi màu trong list `colors` là màu của trái cây cùng vị trí trong list `fruits`)."
   ]
  },
  {
   "cell_type": "code",
   "execution_count": 17,
   "id": "55b735f4",
   "metadata": {},
   "outputs": [
    {
     "name": "stdout",
     "output_type": "stream",
     "text": [
      "{'Apple': 'Red', 'Mango': 'Yellow', 'Strawberry': 'Carmine Pink', 'Lemon': 'Green', 'Tomato': 'Red'}\n"
     ]
    }
   ],
   "source": [
    "fruits = ['Apple', 'Mango', 'Strawberry', 'Lemon', 'Tomato']\n",
    "colors = ['Red', 'Yellow', 'Carmine Pink', 'Green', 'Red']\n",
    "fruits_info = {}\n",
    "for i in range(len(fruits)):\n",
    "    fruits_info[fruits[i]] = colors[i]\n",
    "print(fruits_info)"
   ]
  },
  {
   "cell_type": "markdown",
   "id": "7563389d",
   "metadata": {},
   "source": [
    "**2. Khởi tạo dictionary 1**\n",
    "\n",
    "Hãy khởi tạo một dictionary có cấu trúc như bài tập 1, các dữ liệu được nhập vào từ người dùng bằng câu lệnh `input()`"
   ]
  },
  {
   "cell_type": "code",
   "execution_count": 4,
   "id": "faac46c9",
   "metadata": {},
   "outputs": [
    {
     "name": "stdout",
     "output_type": "stream",
     "text": [
      "{':)': ':D', ':(': ':/', 'xD': 'xd'}\n"
     ]
    }
   ],
   "source": [
    "dictionary1 = {}\n",
    "for i in range(3):\n",
    "    key = input(\"Key: \")\n",
    "    value = input(\"Value: \")\n",
    "    dictionary1[key] = value\n",
    "print(dictionary1)"
   ]
  },
  {
   "cell_type": "markdown",
   "id": "721542ed",
   "metadata": {},
   "source": [
    "**3. Thêm phần tử vào dictionary**\n",
    "\n",
    "Cho 2 dictionary như sau:\n",
    "```python\n",
    "keycode1 = {'a':65, 'b':66, 'c':67}\n",
    "keycode2 = {'d':68, 'e':69}\n",
    "```\n",
    "Hãy thêm vào dictionary thứ nhất các phần tử của dictionary thứ 2."
   ]
  },
  {
   "cell_type": "code",
   "execution_count": 14,
   "id": "cd1a40e2",
   "metadata": {},
   "outputs": [
    {
     "name": "stdout",
     "output_type": "stream",
     "text": [
      "{'a': 65, 'b': 66, 'c': 67, 'd': 68, 'e': 69}\n"
     ]
    }
   ],
   "source": [
    "keycode1 = {'a':65, 'b':66, 'c':67}\n",
    "keycode2 = {'d':68, 'e':69}\n",
    "items2 = keycode2.items()\n",
    "for key, value in keycode2.items():\n",
    "    keycode1[key] = value\n",
    "print(keycode1)\n"
   ]
  },
  {
   "cell_type": "markdown",
   "id": "8c1de135",
   "metadata": {},
   "source": [
    "**4. Cập nhật dictionary**\n",
    "\n",
    "Cho 2 dictionary như sau:\n",
    "```python\n",
    "d1 = {'a':100, 'b':66, 'c':67}\n",
    "d2 = {'e':69, 'f':70, 'a':65}\n",
    "```\n",
    "Hãy cập nhật các phần tử của d1 bằng hai cách sau:  \n",
    "* Chỉ cập nhật bằng các phần tử có key xuất hiện trong cả 2 dictionary, các phần tử còn lại của d2 không được thêm vào d1.\n",
    "* Cập nhật các phần tử có key có key xuất hiện trong cả 2 dictionary, các phần tử còn lại của d2 thêm vào d1."
   ]
  },
  {
   "cell_type": "code",
   "execution_count": 20,
   "id": "b09c516c",
   "metadata": {},
   "outputs": [
    {
     "name": "stdout",
     "output_type": "stream",
     "text": [
      "{'a': 65, 'b': 66, 'c': 67}\n",
      "{'a': 65, 'b': 66, 'c': 67, 'e': 69, 'f': 70}\n"
     ]
    }
   ],
   "source": [
    "d1 = {'a': 100, 'b': 66, 'c': 67}\n",
    "d2 = {'e': 69, 'f': 70, 'a': 65}\n",
    "\n",
    "#Chỉ cập nhật bằng các phần tử có key xuất hiện trong cả 2 dictionary, các phần tử còn lại của d2 không được thêm vào d1.\n",
    "for key in d1.keys():\n",
    "    if key in d2:\n",
    "        d1[key] = d2[key]\n",
    "\n",
    "print(d1)\n",
    "\n",
    "#Cập nhật các phần tử có key xuất hiện trong cả 2 dictionary, các phần tử còn lại của d2 thêm vào d1.\n",
    "for key in d1.keys():\n",
    "    if key in d2:\n",
    "        d1[key] = d2[key]\n",
    "        d2.pop(key)\n",
    "for key, value in d2.items():\n",
    "    d1[key] = value\n",
    "print(d1)\n"
   ]
  },
  {
   "cell_type": "markdown",
   "id": "dd0eff84",
   "metadata": {},
   "source": [
    "**5. Xoá phần tử trong dictionary**\n",
    "\n",
    "Cho dictionary như sau:\n",
    "```python\n",
    "alpha = {'a':3, 'b':5, 'c': 10, 'd': 6, 'e': 10}\n",
    "```\n",
    "Hãy thực hiện các yêu cầu sau:\n",
    "* Nhập một ký tự `k` bất kỳ, nếu `k` là key của dictionary trên thì xoá phần tử có key đó ra khỏi dictionary, ngược lại đưa ra thông báo không tìm thấy thông tin.\n",
    "* Nhập một số bất kỳ `v`, hãy xoá hết các phần tử của dictionary trên có giá trị = `v`."
   ]
  },
  {
   "cell_type": "code",
   "execution_count": 29,
   "id": "f90278e1",
   "metadata": {},
   "outputs": [
    {
     "name": "stdout",
     "output_type": "stream",
     "text": [
      "The item with the key a got deleted\n",
      "Items with the value 10 were found and deleted\n",
      "After the deletes:\n",
      "{'b': 5, 'd': 6}\n"
     ]
    }
   ],
   "source": [
    "alpha = {'a': 3, 'b': 5, 'c': 10, 'd': 6, 'e': 10}\n",
    "\n",
    "#Nhập một ký tự `k` bất kỳ, nếu `k` là key của dictionary trên thì xoá phần tử có key đó ra khỏi dictionary, ngược lại đưa ra thông báo không tìm thấy thông tin.\n",
    "k = input(\"Input a letter: \")\n",
    "if k in alpha:\n",
    "    alpha.pop(k)\n",
    "    print(f\"The item with the key {k} got deleted\")\n",
    "else:\n",
    "    print(f\"The key {k} can't be found in the dictionary\")\n",
    "\n",
    "#Nhập một số bất kỳ `v`, hãy xoá hết các phần tử của dictionary trên có giá trị = `v`.\n",
    "v = int(input(\"Input a number: \"))\n",
    "value_found = False\n",
    "for key, value in list(alpha.items()):\n",
    "    if value == v:\n",
    "        alpha.pop(key)\n",
    "        value_found = True\n",
    "\n",
    "if value_found:\n",
    "    print(f\"The items with the value {v} got deleted\")\n",
    "else:\n",
    "    print(f\"The value {v} can't be found in the dictionary\")\n",
    "\n",
    "print(\"After the deletes:\")\n",
    "print(alpha)\n"
   ]
  },
  {
   "cell_type": "markdown",
   "id": "845ee3c2",
   "metadata": {},
   "source": [
    "**6. Truy cập phần tử trong dictionary**\n",
    "\n",
    "Cho dictionary như sau:\n",
    "```python\n",
    "info = {'Hà Nội': {'THPT Nguyễn Tất Thành': {('20241100', 'Hà Linh Chi'):{'Toán':6, 'Vật Lý':8, 'Hoá': 10}}}}\n",
    "```\n",
    "Hãy truy cập thông qua biến `info` để in điểm Hoá của sinh viên trong dictionary cho trên."
   ]
  },
  {
   "cell_type": "code",
   "execution_count": 31,
   "id": "476c0e37",
   "metadata": {},
   "outputs": [
    {
     "name": "stdout",
     "output_type": "stream",
     "text": [
      "10\n"
     ]
    }
   ],
   "source": [
    "info = {'Hà Nội': {'THPT Nguyễn Tất Thành': {('20241100', 'Hà Linh Chi'):{'Toán':6, 'Vật Lý':8, 'Hoá': 10}}}}\n",
    "print(info['Hà Nội']['THPT Nguyễn Tất Thành'][('20241100', 'Hà Linh Chi')]['Hoá'])"
   ]
  },
  {
   "cell_type": "markdown",
   "id": "85b2e73c",
   "metadata": {},
   "source": [
    "**7. Chữ cái**\n",
    "\n",
    "Cho list như sau:\n",
    "```python\n",
    "words = ['apple', 'bat', 'bar', 'atom', 'book']\n",
    "```\n",
    "Hãy sử dụng các thao tác trên dictionary cho ra kết quả như sau:\n",
    "```python\n",
    "{'a': ['apple', 'atom'], 'b': ['bat', 'bar', 'book']}\n",
    "```"
   ]
  },
  {
   "cell_type": "code",
   "execution_count": 32,
   "id": "d46d2807",
   "metadata": {},
   "outputs": [
    {
     "name": "stdout",
     "output_type": "stream",
     "text": [
      "{'a': ['apple', 'atom'], 'b': ['bat', 'bar', 'book']}\n"
     ]
    }
   ],
   "source": [
    "words = ['apple', 'bat', 'bar', 'atom', 'book']\n",
    "result = {}\n",
    "\n",
    "for word in words:\n",
    "    first_letter = word[0]\n",
    "    if first_letter in result:\n",
    "        result[first_letter].append(word)\n",
    "    else:\n",
    "        result[first_letter] = [word]\n",
    "\n",
    "print(result)\n"
   ]
  },
  {
   "cell_type": "markdown",
   "id": "0d3ab34e",
   "metadata": {},
   "source": [
    "**8. Thống kê họ**\n",
    "\n",
    "Cho list như sau:\n",
    "```python\n",
    "students = ['Nguyễn Văn Thành', 'Nguyễn Thuỳ Linh', 'Trần Huy Đạt', 'Hà Duy Mạnh', 'Ngô Trần Thành']\n",
    "```\n",
    "Hãy thực hiện các yêu cầu sau:\n",
    "* Hãy tạo một dictionary thống kê số lượng họ như dưới:  \n",
    "```python\n",
    "lnames = {'Nguyễn':2, 'Trần':1, 'Hà':1, 'Ngô':1}\n",
    "```\n",
    "* Hãy tạo một dictionary thống kê số lượng tên như dưới:  \n",
    "```python\n",
    "fnames = {'Thành':2, 'Linh':1, 'Đạt':1, 'Mạnh':1}\n",
    "```"
   ]
  },
  {
   "cell_type": "code",
   "execution_count": 39,
   "id": "2dc20d3a",
   "metadata": {},
   "outputs": [
    {
     "name": "stdout",
     "output_type": "stream",
     "text": [
      "{'Nguyễn': 2, 'Trần': 1, 'Hà': 1, 'Ngô': 1} {'Thành': 2, 'Linh': 1, 'Đạt': 1, 'Mạnh': 1}\n"
     ]
    }
   ],
   "source": [
    "students = ['Nguyễn Văn Thành', 'Nguyễn Thuỳ Linh', 'Trần Huy Đạt', 'Hà Duy Mạnh', 'Ngô Trần Thành']\n",
    "lnames = {}\n",
    "fnames = {}\n",
    "for name in students:\n",
    "    cutted_name = name.split()\n",
    "    lname = cutted_name[0]\n",
    "    fname = cutted_name[-1]\n",
    "    if lname in lnames:\n",
    "        lnames[lname] += 1\n",
    "    else:\n",
    "        lnames[lname] = 1\n",
    "    if fname in fnames:\n",
    "        fnames[fname] += 1\n",
    "    else:\n",
    "        fnames[fname] = 1\n",
    "print(lnames, fnames)"
   ]
  },
  {
   "cell_type": "markdown",
   "id": "755a87b2",
   "metadata": {},
   "source": [
    "**9. Cho dictionary như sau với `key` là thông tin của sinh viên (Họ tên, tuổi, quê quán), `value` là một list chứa điểm thi của môn Toán, Lý, Hoá**  \n",
    "```python\n",
    "students = {('Hà Văn Hoàng', 24, 'Hà Nội'): [6, 9, 10],\n",
    "            ('Trần Minh Tân', 21, 'Nghệ An'): [5, 8, 7],\n",
    "            ('Cao Hoàng Yến', 20, 'Bắc Ninh'): [6, 10, 5],\n",
    "            ('Hà Duy Mạnh', 22, 'Nghệ An'): [7, 8, 5]}\n",
    "```   \n",
    "**Thực hiện các yêu cầu sau:**  \n",
    "* Tính điểm tổng kết cho từng sinh viên, biết điểm toán có hệ số 2, điểm Lý và Hoá có hệ số 1, điểm tổng kết = (Điểm Toán * 2 + Điểm lý + Điểm hoá)/4. Thêm thông tin điểm tổng kết vào list sau điểm môn Hoá.\n",
    "* Thêm vào thông tin điểm của mỗi sinh viên giá trị xếp loại (thêm sau điểm tổng kết), biết xếp loại dựa theo điểm tổng kết, nếu điểm tổng kết > 8 thì loại giỏi, >6 thì loại khá, >5 loại trung bình, còn lại là loại yếu.\n",
    "* Tìm sinh viên có điểm toán cao nhất, điểm tổng kết cao nhất.  \n",
    "* Thống kê số lượng sinh viên theo quê quán (thông tin được lưu vào một dictionary có key là quê quán, value là số lượng sinh viên).\n",
    "* Thống kê phổ điểm của từng môn Toán, Lý, Hoá (thông tin phổ điểm mỗi môn được lưu vào một dictionary có key là điểm, value là số lượng sinh viên đạt được điểm đó).\n",
    "* Sắp xếp danh sách sinh viên theo tên.  \n",
    "* Sắp xếp danh sách sinh viên theo xếp loại.  \n",
    "* Sắp xếp danh sách sinh viên theo thứ tự giảm dần điểm toán."
   ]
  },
  {
   "cell_type": "code",
   "execution_count": 1,
   "id": "5706c2b5",
   "metadata": {},
   "outputs": [
    {
     "name": "stdout",
     "output_type": "stream",
     "text": [
      "Student with highest Math score: ('Ha Duy Manh', 22, 'Nghe An')\n",
      "Student with highest overall score: ('Ha Van Hoang', 24, 'Hanoi')\n",
      "Number of students by hometown: {'Hanoi': 1, 'Nghe An': 2, 'Bac Ninh': 1}\n",
      "Math score distribution: {6: 2, 5: 1, 7: 1}\n",
      "Physics score distribution: {9: 1, 8: 2, 10: 1}\n",
      "Chemistry score distribution: {10: 1, 7: 1, 5: 2}\n",
      "Students sorted by name: [(('Cao Hoang Yen', 20, 'Bac Ninh'), [6, 10, 5, 6.75, 'Good']), (('Ha Duy Manh', 22, 'Nghe An'), [7, 8, 5, 6.75, 'Good']), (('Ha Van Hoang', 24, 'Hanoi'), [6, 9, 10, 7.75, 'Good']), (('Tran Minh Tan', 21, 'Nghe An'), [5, 8, 7, 6.25, 'Good'])]\n",
      "Students sorted by classification: [(('Ha Van Hoang', 24, 'Hanoi'), [6, 9, 10, 7.75, 'Good']), (('Tran Minh Tan', 21, 'Nghe An'), [5, 8, 7, 6.25, 'Good']), (('Cao Hoang Yen', 20, 'Bac Ninh'), [6, 10, 5, 6.75, 'Good']), (('Ha Duy Manh', 22, 'Nghe An'), [7, 8, 5, 6.75, 'Good'])]\n",
      "Students sorted by Math score: [(('Ha Duy Manh', 22, 'Nghe An'), [7, 8, 5, 6.75, 'Good']), (('Ha Van Hoang', 24, 'Hanoi'), [6, 9, 10, 7.75, 'Good']), (('Cao Hoang Yen', 20, 'Bac Ninh'), [6, 10, 5, 6.75, 'Good']), (('Tran Minh Tan', 21, 'Nghe An'), [5, 8, 7, 6.25, 'Good'])]\n"
     ]
    }
   ],
   "source": [
    "students = {('Ha Van Hoang', 24, 'Hanoi'): [6, 9, 10],\n",
    "            ('Tran Minh Tan', 21, 'Nghe An'): [5, 8, 7],\n",
    "            ('Cao Hoang Yen', 20, 'Bac Ninh'): [6, 10, 5],\n",
    "            ('Ha Duy Manh', 22, 'Nghe An'): [7, 8, 5]}\n",
    "\n",
    "# Calculate overall score and classification for each student\n",
    "for student, scores in students.items():\n",
    "    overall_score = (scores[0] * 2 + scores[1] + scores[2]) / 4\n",
    "    classification = \"Excellent\" if overall_score > 8 else \"Good\" if overall_score > 6 else \"Average\" if overall_score > 5 else \"Weak\"\n",
    "    scores.append(overall_score)\n",
    "    scores.append(classification)\n",
    "\n",
    "# Find student with highest Math score and highest overall score\n",
    "highest_math_score_student = max(students, key=lambda x: students[x][0])\n",
    "highest_overall_score_student = max(students, key=lambda x: students[x][-2])\n",
    "\n",
    "# Count number of students by hometown\n",
    "hometown_count = {}\n",
    "for student in students:\n",
    "    hometown = student[2]\n",
    "    hometown_count[hometown] = hometown_count.get(hometown, 0) + 1\n",
    "\n",
    "# Calculate score distribution for each subject\n",
    "math_scores = {}\n",
    "physics_scores = {}\n",
    "chemistry_scores = {}\n",
    "for scores in students.values():\n",
    "    math_scores[scores[0]] = math_scores.get(scores[0], 0) + 1\n",
    "    physics_scores[scores[1]] = physics_scores.get(scores[1], 0) + 1\n",
    "    chemistry_scores[scores[2]] = chemistry_scores.get(scores[2], 0) + 1\n",
    "\n",
    "# Sort students by name, classification, and Math score\n",
    "sorted_by_name = sorted(students.items(), key=lambda x: x[0][0])\n",
    "sorted_by_classification = sorted(students.items(), key=lambda x: x[1][-1])\n",
    "sorted_by_math_score = sorted(students.items(), key=lambda x: x[1][0], reverse=True)\n",
    "\n",
    "# Print results\n",
    "print(\"Student with highest Math score:\", highest_math_score_student)\n",
    "print(\"Student with highest overall score:\", highest_overall_score_student)\n",
    "print(\"Number of students by hometown:\", hometown_count)\n",
    "print(\"Math score distribution:\", math_scores)\n",
    "print(\"Physics score distribution:\", physics_scores)\n",
    "print(\"Chemistry score distribution:\", chemistry_scores)\n",
    "print(\"Students sorted by name:\", sorted_by_name)\n",
    "print(\"Students sorted by classification:\", sorted_by_classification)\n",
    "print(\"Students sorted by Math score:\", sorted_by_math_score)\n"
   ]
  },
  {
   "cell_type": "markdown",
   "id": "53e103c0",
   "metadata": {},
   "source": [
    "**10. Mini Game**\n",
    "\n",
    "Viết một mini game giúp người dùng học từ mới tiếng Anh. Mỗi lần chơi màn hình sẽ hiển thị một từ tiếng Anh (hiển thị ngẫu nhiên từ một dictionary có khoá là tiếng Anh, giá trị là nghĩa của từ đó bằng tiếng Việt), và yêu cầu người dùng nhập vào nghĩa tiếng Việt, nếu đúng thì hiển thị Đúng ngược lại hiển thị Sai, và sau mỗi lần chương trình đánh giá kết quả đúng hay sai xong thì từ mới tiếng Anh khác lại xuất hiện và cứ lặp lại như thế đến khi nào người dùng nhập từ Quit."
   ]
  },
  {
   "cell_type": "code",
   "execution_count": null,
   "id": "9400a233",
   "metadata": {},
   "outputs": [],
   "source": []
  }
 ],
 "metadata": {
  "kernelspec": {
   "display_name": "Python 3 (ipykernel)",
   "language": "python",
   "name": "python3"
  },
  "language_info": {
   "codemirror_mode": {
    "name": "ipython",
    "version": 3
   },
   "file_extension": ".py",
   "mimetype": "text/x-python",
   "name": "python",
   "nbconvert_exporter": "python",
   "pygments_lexer": "ipython3",
   "version": "3.8.2"
  }
 },
 "nbformat": 4,
 "nbformat_minor": 5
}
