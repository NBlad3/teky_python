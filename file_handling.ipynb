{
 "cells": [
  {
   "cell_type": "markdown",
   "id": "1a6bed92",
   "metadata": {},
   "source": [
    "## FILE & DIRECTORY HANDLING"
   ]
  },
  {
   "cell_type": "markdown",
   "id": "ef071a53",
   "metadata": {},
   "source": [
    "### I. File handling"
   ]
  },
  {
   "cell_type": "markdown",
   "id": "45e60728",
   "metadata": {},
   "source": [
    "**1. File open**\n",
    "\n",
    "> cú pháp mở file\n",
    ">```python\n",
    "> file = open(\"filename\", \"mode\")\n",
    ">```\n",
    "> * `filename` - là đường dẫn của file cần thao tác.\n",
    "> * `mode` - là chế độ mở file. Tùy vào mục đích khác nhau khi mở file mà `mode` có các giá trị khác nhau. Dưới đây là một số giá trị thường dùng của tham số `mode`.\n",
    ">   * `r` - Mở file chỉ để đọc. Khi mở file, con trỏ sẽ ở vị trí đầu tiên của file. Đây là chế độ mặc định.\n",
    ">   * `rb` - Mở file để đọc file nhị phân. Con trỏ sẽ ở vị trí đầu tiên của file. Đây là chế độ mặc định.\n",
    ">   * `r+` - Mở file để đọc và ghi. Con trỏ ở vị trí đầu tiên của file.\n",
    ">   * `rb+` - Mở file để đọc và ghi file nhị phân. Con trỏ ở vị trí đầu tiên của file.\n",
    ">   * `w` - Mở file chỉ để ghi. Ở chế độ này, các nội dung có sẵn trong file sẽ bị thay thế bởi nội dung mới ghi vào. Nếu file không tồn tại, một file mới sẽ được tạo ra.\n",
    ">   * `b` - Mở file nhị phân.\n",
    ">   * `t` - Mở file text. Đây là chế độ mặc định.\n",
    ">   * `w+` - Mở file để đọc và ghi. Các nội dung trong file sẽ bị ghi đè. Nếu file không tồn tại thì file mới sẽ được tạo ra để ghi và đọc.\n",
    ">   * `a` - Mở file để thêm nội dung. Con trỏ sẽ ở cuối file, do đó nội dung ghi vào sẽ được thêm vào cuối file, nội dung có sẵn không bị ghi đè. Nếu file không tồn tại, một file mới sẽ được tạo ra.\n",
    ">   ...."
   ]
  },
  {
   "cell_type": "markdown",
   "id": "5d511605",
   "metadata": {},
   "source": [
    "**Một số ví dụ mở file với các giá trị khác nhau của tham số `mode`**"
   ]
  },
  {
   "cell_type": "code",
   "execution_count": 17,
   "id": "f179a0a6",
   "metadata": {},
   "outputs": [],
   "source": [
    "file = open('student.txt', 'r')"
   ]
  },
  {
   "cell_type": "code",
   "execution_count": null,
   "id": "d9a55d53",
   "metadata": {},
   "outputs": [],
   "source": [
    "file = open('student.txt', 'w')"
   ]
  },
  {
   "cell_type": "code",
   "execution_count": null,
   "id": "9b3717c3",
   "metadata": {},
   "outputs": [],
   "source": [
    "file = open('student.txt', 'a')"
   ]
  },
  {
   "cell_type": "code",
   "execution_count": null,
   "id": "0ce42ebb",
   "metadata": {},
   "outputs": [],
   "source": [
    "file = open('data.txt', 'rb')"
   ]
  },
  {
   "cell_type": "code",
   "execution_count": 18,
   "id": "d140777c",
   "metadata": {},
   "outputs": [
    {
     "name": "stdout",
     "output_type": "stream",
     "text": [
      "Name of the file:  student.txt\n",
      "File is closed?:  False\n",
      "Opening mode:  w+\n",
      "Encoding:  UTF-8\n"
     ]
    }
   ],
   "source": [
    "file = open(\"student.txt\", \"w+\")\n",
    "print (\"Name of the file: \", file.name)\n",
    "print (\"File is closed?: \", file.closed)\n",
    "print (\"Opening mode: \", file.mode)\n",
    "print (\"Encoding: \", file.encoding)\n",
    "file.close()"
   ]
  },
  {
   "cell_type": "code",
   "execution_count": 19,
   "id": "ccd2a6c8",
   "metadata": {},
   "outputs": [
    {
     "data": {
      "text/plain": [
       "<_io.TextIOWrapper name='student.txt' mode='w+' encoding='UTF-8'>"
      ]
     },
     "execution_count": 19,
     "metadata": {},
     "output_type": "execute_result"
    }
   ],
   "source": [
    "file"
   ]
  },
  {
   "cell_type": "markdown",
   "id": "a7b42b3f",
   "metadata": {},
   "source": [
    "**2. File reading**\n",
    "\n",
    "> Để đọc nội dung trong file, file được mở với chế độ để đọc. Một số hàm được cung cấp sẵn để lấy nội dung từ file:\n",
    "> * `read(size)` - Lấy toàn bộ nội dung trong file. Tham số `size` là số bytes cần đọc, trong trường hợp không cung cấp giá trị, hoặc mang giá trị âm thì hàm đọc hết toàn bộ nội dung của file.\n",
    "> * `readline(size)` - Mỗi lần gọi hàm sẽ lấy nội dung của một dòng. Tham số `size` là số bytes lớn nhất đọc được của dòng đó, trong trường hợp không cung cấp giá trị, hoặc mang giá trị âm thì hàm đọc hết toàn bộ nội dung của dòng đó.\n",
    "> * `readlines(size)` - Kết quả trả về là một list chứa toàn bộ các dòng. Tham số `size` là số bytes cần đọc, trong trường hợp không cung cấp giá trị thì đọc toàn bộ file."
   ]
  },
  {
   "cell_type": "markdown",
   "id": "0859aa09",
   "metadata": {},
   "source": [
    "**Ví dụ**"
   ]
  },
  {
   "cell_type": "code",
   "execution_count": 22,
   "id": "a996ad9c",
   "metadata": {},
   "outputs": [
    {
     "name": "stdout",
     "output_type": "stream",
     "text": [
      "Hello world\n",
      "Apple\n",
      "Donkey\n",
      "goldfish\n"
     ]
    }
   ],
   "source": [
    "file = open(\"student.txt\", \"r\")\n",
    "rows = file.read()\n",
    "print(rows)\n",
    "file.close()"
   ]
  },
  {
   "cell_type": "code",
   "execution_count": 23,
   "id": "941e9551",
   "metadata": {},
   "outputs": [
    {
     "data": {
      "text/plain": [
       "str"
      ]
     },
     "execution_count": 23,
     "metadata": {},
     "output_type": "execute_result"
    }
   ],
   "source": [
    "type(rows)"
   ]
  },
  {
   "cell_type": "code",
   "execution_count": 24,
   "id": "dcbe5e0e",
   "metadata": {},
   "outputs": [
    {
     "name": "stdout",
     "output_type": "stream",
     "text": [
      "Hello world\n",
      "\n"
     ]
    }
   ],
   "source": [
    "file = open(\"student.txt\", \"r\")\n",
    "row = file.readline()\n",
    "print(row)\n",
    "file.close()"
   ]
  },
  {
   "cell_type": "code",
   "execution_count": 25,
   "id": "4f253ebd",
   "metadata": {},
   "outputs": [
    {
     "name": "stdout",
     "output_type": "stream",
     "text": [
      "Hello world\n",
      "\n",
      "Apple\n",
      "\n",
      "Donkey\n",
      "\n",
      "goldfish\n"
     ]
    }
   ],
   "source": [
    "file = open(\"student.txt\", \"r\")\n",
    "while True:\n",
    "    row = file.readline()\n",
    "    if not row:\n",
    "        break\n",
    "    print(row)\n",
    "file.close()"
   ]
  },
  {
   "cell_type": "code",
   "execution_count": 26,
   "id": "9543546c",
   "metadata": {},
   "outputs": [
    {
     "name": "stdout",
     "output_type": "stream",
     "text": [
      "['Hello world\\n', 'Apple\\n', 'Donkey\\n', 'goldfish']\n"
     ]
    }
   ],
   "source": [
    "file = open(\"student.txt\", \"r\")\n",
    "rows = file.readlines()\n",
    "print(rows)\n",
    "file.close()"
   ]
  },
  {
   "cell_type": "markdown",
   "id": "9237cf28",
   "metadata": {},
   "source": [
    "**3. File writing**\n",
    "\n",
    "> Để ghi nội dung vào file, file phải được mở ở chế độ ghi file `w`, `a`. Một số hàm được cung cấp để ghi nội dung vào file.\n",
    "> * `write()` - ghi nội dung vào file.\n",
    "> * `writelines()` - ghi list dữ liệu vào file."
   ]
  },
  {
   "cell_type": "code",
   "execution_count": 29,
   "id": "0343e872",
   "metadata": {},
   "outputs": [
    {
     "name": "stdout",
     "output_type": "stream",
     "text": [
      "Ghi thành công...\n"
     ]
    }
   ],
   "source": [
    "file = open(\"data.txt\", \"w\")\n",
    "file.write(\"Start learning\\n\")\n",
    "file.write(\"python programming course\")\n",
    "print (\"Ghi thành công...\")\n",
    "file.close()"
   ]
  },
  {
   "cell_type": "code",
   "execution_count": 31,
   "id": "730e3966",
   "metadata": {},
   "outputs": [
    {
     "name": "stdout",
     "output_type": "stream",
     "text": [
      "Ghi thành công...\n"
     ]
    }
   ],
   "source": [
    "file = open(\"data.txt\", \"a\")\n",
    "file.write(\"\\nSwift programming course\")\n",
    "print (\"Ghi thành công...\")\n",
    "file.close()"
   ]
  },
  {
   "cell_type": "code",
   "execution_count": 32,
   "id": "abb2d2ba",
   "metadata": {},
   "outputs": [
    {
     "name": "stdout",
     "output_type": "stream",
     "text": [
      "Ghi thành công...\n"
     ]
    }
   ],
   "source": [
    "data = ['apple\\n', 'donkey\\n', 'goldfish']\n",
    "file = open(\"data.txt\", \"w\")\n",
    "file.writelines(data)\n",
    "print (\"Ghi thành công...\")\n",
    "file.close()"
   ]
  },
  {
   "cell_type": "markdown",
   "id": "4c8ac8f5",
   "metadata": {},
   "source": [
    "***Note***\n",
    "> Khi muốn làm việc với các file có đuôi mở rộng khác .txt như mp3, exe, jpg...thì phải mở file với mode là 'b'."
   ]
  },
  {
   "cell_type": "code",
   "execution_count": 33,
   "id": "4aa277c0",
   "metadata": {},
   "outputs": [],
   "source": [
    "file = open('datab.bin', 'wb')\n",
    "file.write(b'python programming...')\n",
    "file.close()"
   ]
  },
  {
   "cell_type": "code",
   "execution_count": null,
   "id": "1cbb54b5",
   "metadata": {},
   "outputs": [],
   "source": [
    "file = open('datab2.bin', 'wb')\n",
    "data = \"Hello World\".encode('utf-8')  \n",
    "file.write(data)\n",
    "file.close()"
   ]
  },
  {
   "cell_type": "markdown",
   "id": "5eb4f840",
   "metadata": {},
   "source": [
    "***Note***\n",
    "\n",
    "Mở file với `mode = 'w+'` và sử dụng hàm `seek()` để đưa con trỏ về vị trí bất kỳ trong file, sau đó để ghi hoặc đọc file từ vị trí đó.\n",
    "\n",
    "Cú pháp: \n",
    "```python \n",
    "file_Object.seek(offset) \n",
    "```"
   ]
  },
  {
   "cell_type": "markdown",
   "id": "cd55672f",
   "metadata": {},
   "source": [
    "**4. File close**\n",
    "> Khi làm việc với file bằng hàm `open()`, Python cung cấp hàm `close()` để đóng file khi kết thúc thao tác truy cập đọc hoặc ghi nội dung. Thao tác này là cần thiết để giải phóng bộ nhớ và tránh mất dữ liệu."
   ]
  },
  {
   "cell_type": "code",
   "execution_count": 34,
   "id": "4e283eac",
   "metadata": {},
   "outputs": [
    {
     "name": "stdout",
     "output_type": "stream",
     "text": [
      "Ghi thành công...\n"
     ]
    }
   ],
   "source": [
    "file = open(\"data1.txt\", \"w\")\n",
    "file.write(\"Hello, World!\")\n",
    "print (\"Ghi thành công...\")"
   ]
  },
  {
   "cell_type": "code",
   "execution_count": 35,
   "id": "2b0ce017",
   "metadata": {},
   "outputs": [],
   "source": [
    "file.close()"
   ]
  },
  {
   "cell_type": "markdown",
   "id": "3d4749c6",
   "metadata": {},
   "source": [
    "**5. Automatic file closing using `with` statement**\n",
    "\n",
    "> Sử dụng cú pháp này khi làm việc với file, file sẽ được tự động đóng khi kết thúc thao tác, thậm chí khi xuất hiện lỗi khi ghi hoặc đọc file."
   ]
  },
  {
   "cell_type": "code",
   "execution_count": 37,
   "id": "ccb2b681",
   "metadata": {},
   "outputs": [
    {
     "name": "stdout",
     "output_type": "stream",
     "text": [
      "Ghi thành công...\n"
     ]
    }
   ],
   "source": [
    "with open(\"data1.txt\", \"w\") as file:\n",
    "    file.write(\"Hello, World11111111\")\n",
    "    print (\"Ghi thành công...\")"
   ]
  },
  {
   "cell_type": "markdown",
   "id": "37496a2c",
   "metadata": {},
   "source": [
    "**6. File rename**\n",
    "\n",
    "> Để đổi tên file, hàm `rename()` trong module `os` được sử dụng.\n",
    "> Cú pháp:\n",
    "> ```python\n",
    "> os.rename(current_file_name, new_file_name)\n",
    ">```\n",
    "> * `current_file_name` - tên file muốn đổi tên.\n",
    "> * `new_file_name` - tên mới."
   ]
  },
  {
   "cell_type": "code",
   "execution_count": 38,
   "id": "8d8f4d4d",
   "metadata": {},
   "outputs": [
    {
     "name": "stdout",
     "output_type": "stream",
     "text": [
      "Đổi tên thành công...\n"
     ]
    }
   ],
   "source": [
    "import os\n",
    "\n",
    "os.rename('data.txt', 'data_finall.txt')\n",
    "print('Đổi tên thành công...')"
   ]
  },
  {
   "cell_type": "markdown",
   "id": "f577c996",
   "metadata": {},
   "source": [
    "**7. File deletion**\n",
    "\n",
    "> Sử dụng hàm `remove()` trong module `os` để xoá file.\n",
    "> Cú pháp:\n",
    ">```python\n",
    "> os.remove(file_to_delete)\n",
    ">```\n",
    "> * `file_to_delete` - tên file cần xoá."
   ]
  },
  {
   "cell_type": "code",
   "execution_count": 40,
   "id": "6d20b0db",
   "metadata": {},
   "outputs": [
    {
     "name": "stdout",
     "output_type": "stream",
     "text": [
      "Xoá file thành công...\n"
     ]
    }
   ],
   "source": [
    "import os\n",
    "\n",
    "os.remove('data1.txt')\n",
    "print('Xoá file thành công...')"
   ]
  },
  {
   "cell_type": "markdown",
   "id": "0ecb7fd2",
   "metadata": {},
   "source": [
    "### II. Directory handling\n",
    "\n",
    "> Để làm việc với các folder, python cung cấp một số module như `os` và `os.path`."
   ]
  },
  {
   "cell_type": "markdown",
   "id": "25514d5e",
   "metadata": {},
   "source": [
    "**1. Checking if a directory exists**\n",
    "\n",
    "> `os.path.exists()` là hàm dùng để kiểm tra sự tồn tại của một folder."
   ]
  },
  {
   "cell_type": "code",
   "execution_count": 42,
   "id": "6d7822e0",
   "metadata": {},
   "outputs": [
    {
     "name": "stdout",
     "output_type": "stream",
     "text": [
      "The directory \"/Users/caocao12\" does not exists.\n"
     ]
    }
   ],
   "source": [
    "folder = r'/Users/caocao12'\n",
    "if os.path.exists(folder):\n",
    "    print(f'The directory \"{folder}\" exists.')\n",
    "else:\n",
    "    print(f'The directory \"{folder}\" does not exists.')"
   ]
  },
  {
   "cell_type": "markdown",
   "id": "e2a6b641",
   "metadata": {},
   "source": [
    "**2. Directory creation**\n",
    "\n",
    "> Sử dụng hàm `os.mkdir()` để tạo một folder mới nếu folder đó chưa tồn tại."
   ]
  },
  {
   "cell_type": "code",
   "execution_count": 44,
   "id": "fa450950",
   "metadata": {},
   "outputs": [
    {
     "name": "stdout",
     "output_type": "stream",
     "text": [
      "Tạo folder mới thành công!\n"
     ]
    }
   ],
   "source": [
    "os.mkdir('python2')\n",
    "print('Tạo folder mới thành công!')"
   ]
  },
  {
   "cell_type": "markdown",
   "id": "cafdc588",
   "metadata": {},
   "source": [
    "**3. Current working directory**\n",
    "\n",
    "> Dùng hàm `os.getcwd()` để lấy thông tin của folder hiện tại."
   ]
  },
  {
   "cell_type": "code",
   "execution_count": 45,
   "id": "1e7680ba",
   "metadata": {},
   "outputs": [
    {
     "data": {
      "text/plain": [
       "'/Users/caocao'"
      ]
     },
     "execution_count": 45,
     "metadata": {},
     "output_type": "execute_result"
    }
   ],
   "source": [
    "os.getcwd()"
   ]
  },
  {
   "cell_type": "code",
   "execution_count": 46,
   "id": "a5feb1a8",
   "metadata": {},
   "outputs": [
    {
     "data": {
      "text/plain": [
       "'/Users/caocao'"
      ]
     },
     "execution_count": 46,
     "metadata": {},
     "output_type": "execute_result"
    }
   ],
   "source": [
    "pwd"
   ]
  },
  {
   "cell_type": "markdown",
   "id": "221eb7e3",
   "metadata": {},
   "source": [
    "**4. File and directory listing**\n",
    "\n",
    "> Để liệt kê các file, các thư mục con trong một thư mục, sử dụng hàm `listdir()`.   \n",
    ">\n",
    "> Để phân biệt các thành phần con của thư mục là thư mục con hay là file, sử dụng `os.path.isdir()` và `os.path.isfile()` tương ứng.  "
   ]
  },
  {
   "cell_type": "code",
   "execution_count": 48,
   "id": "31627cdf",
   "metadata": {},
   "outputs": [
    {
     "name": "stdout",
     "output_type": "stream",
     "text": [
      "PY TKINTER Bai 12 (1).ipynb\n",
      "Music\n",
      "Vu Duc Tung.ipynb\n",
      ".condarc\n",
      "PY TKINTER.ipynb\n",
      "sort_algorithms_practice.ipynb\n",
      "mymodule.ipynb\n",
      "minhtuan.ipynb\n",
      ".DS_Store\n",
      "write21.txt\n"
     ]
    }
   ],
   "source": [
    "folder = r'/Users/caocao'\n",
    "try:\n",
    "    contents = os.listdir(folder)\n",
    "    for item in contents[:10]:\n",
    "        print(item)\n",
    "except OSError as e:\n",
    "    print(f'Error: {e}')"
   ]
  },
  {
   "cell_type": "markdown",
   "id": "de73e388",
   "metadata": {},
   "source": [
    "**5. Changing the current working directory**\n",
    "\n",
    "> Sử dụng hàm `chdir()` để thay đổi thư mục làm việc hiện tại."
   ]
  },
  {
   "cell_type": "code",
   "execution_count": null,
   "id": "96410d94",
   "metadata": {},
   "outputs": [],
   "source": [
    "new_folder = r'/Users/python'\n",
    "try:\n",
    "    os.chdir(new_folder)\n",
    "    print('đổi thành công')\n",
    "except OSError as e:\n",
    "    print('Error: ', e)"
   ]
  },
  {
   "cell_type": "markdown",
   "id": "9f84d3a8",
   "metadata": {},
   "source": [
    "**6. Directory remove**\n",
    "\n",
    "> Dùng hàm `os.rmdir()` để xoá các thư mục trống. Nếu thư mục có chứa file hoặc các thư mục con, dùng hàm `shutil.rmtree()` để xoá thư mục đó."
   ]
  },
  {
   "cell_type": "code",
   "execution_count": 51,
   "id": "294fe5b7",
   "metadata": {},
   "outputs": [
    {
     "name": "stdout",
     "output_type": "stream",
     "text": [
      "Xoá thư mục thành công\n"
     ]
    }
   ],
   "source": [
    "folder = r'/Users/caocao/python2'\n",
    "try:\n",
    "    os.rmdir(folder)\n",
    "    print('Xoá thư mục thành công')\n",
    "except OSError as e:\n",
    "    print(e)"
   ]
  },
  {
   "cell_type": "markdown",
   "id": "d291c4bb",
   "metadata": {},
   "source": [
    "### III. Exercise"
   ]
  },
  {
   "cell_type": "markdown",
   "id": "c7ab6624",
   "metadata": {},
   "source": [
    "**1. Kiểm tra mã vạch**\n",
    "\n",
    "* Trên hàng hoá thường có một dãy chữ số gồm 13 chữ số, dãy số này được gọi là mã vạch. Dãy số này được tạo bởi quy tắc sau: Một vã vạch hàng hóa là một chuỗi có đúng 13 chữ số, chữ số cuối cùng gọi là chữ số kiểm tra `C`. Gọi `A` là tổng các chữ số ở vị trí lẻ (trừ chữ số kiểm tra `C`). Gọi `B` là tổng các chữ số ở vị trí chẵn. Gọi `D = A + 3B`. Nếu phần dư của `D` chia cho 10 khác không thì `F=10-phần dư`, ngược lại `F = 0`. Một mã vạch được coi là mã vạch đúng nếu `F=C`. Định nghĩa một hàm kiểm tra một dãy số 13 chữ số có phải là mã vạch hay không. Ví dụ: `4902778120972` là 1 mã vạch đúng, `4902778120973` là không phải mã vạch.  \n",
    "* Một file `barcode.txt` chứa một danh sách các dãy số, mỗi dãy số nằm trên một dòng. Định nghĩa một hàm để đọc đọc file vừa cho, kiểm tra mỗi dãy số trong file có phải là mã vạch hay không, kết quả được lưu vào một từ điển có cấu trúc `{'dãy số': 'yes/no'}` (`yes` - nếu dãy đó là mã vạch, `no` - nếu dãy đó không phải là mã vạch). Lưu kết quả kiểm tra vào file `barcode_validation.txt`, mỗi hàng là một dãy số và kết quả kiểm tra. Ví dụ `4902778120972 - yes` hoặc `4902778120973 - no`."
   ]
  },
  {
   "cell_type": "code",
   "execution_count": null,
   "id": "9a788947",
   "metadata": {},
   "outputs": [],
   "source": [
    "# code"
   ]
  },
  {
   "cell_type": "markdown",
   "id": "44f6a5a6",
   "metadata": {},
   "source": [
    "**2. Danh sách khách hàng**\n",
    "\n",
    "Tại một cửa hàng bán đồ thể thao nhỏ, các thông tin khách hàng đến mua hàng được lưu lại để tiện cho việc kinh doanh. Thông tin khách hàng gồm có tên, số điện thoại, email và địa chỉ. Viết một phần mềm nhỏ để giúp cửa hàng trên quản lý thông tin khách hàng. Phần mềm phải có một số chức năng như sau:\n",
    "* 1. Hiển thị thông tin khách hàng, thông tin này được đọc từ file `customers.txt`.\n",
    "* 2. Tìm kiếm khách hàng.\n",
    "* 3. Thêm thông tin khách hàng mới.\n",
    "* 4. Cập nhật thông tin khách hàng.\n",
    "* 5. Xoá thông tin khách hàng.\n",
    "* 6. Lưu những thay đổi vào file `customers.txt`."
   ]
  },
  {
   "cell_type": "code",
   "execution_count": null,
   "id": "96fb1773",
   "metadata": {},
   "outputs": [],
   "source": [
    "# code"
   ]
  }
 ],
 "metadata": {
  "kernelspec": {
   "display_name": "Python 3 (ipykernel)",
   "language": "python",
   "name": "python3"
  },
  "language_info": {
   "codemirror_mode": {
    "name": "ipython",
    "version": 3
   },
   "file_extension": ".py",
   "mimetype": "text/x-python",
   "name": "python",
   "nbconvert_exporter": "python",
   "pygments_lexer": "ipython3",
   "version": "3.9.13"
  }
 },
 "nbformat": 4,
 "nbformat_minor": 5
}
