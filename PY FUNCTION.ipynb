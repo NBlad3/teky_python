{
 "cells": [
  {
   "cell_type": "markdown",
   "id": "ae7e77c2",
   "metadata": {},
   "source": [
    "# <span style='color:blue;'>FUNCTION</span>\n",
    "> <span style='color:gray;'>***Python Fundamental course - 2022***</span>\n",
    "<hr>"
   ]
  },
  {
   "cell_type": "markdown",
   "id": "72e44dd7",
   "metadata": {},
   "source": [
    "**1. Cú pháp khai báo hàm**\n",
    "> ```python\n",
    "> def name_function(**params):\n",
    ">     ''docstring''\n",
    ">     # code to be excuted\n",
    ">```\n",
    "> Các thành phần của hàm:\n",
    "> * Tên hàm\n",
    "> * Tham số của hàm\n",
    "> * Mô tả hàm (docstring), thành phần này không bắt buộc\n",
    "> * Thân của hàm (các lệnh thực thi hàm) \n",
    ">\n",
    "> Chú ý: Tên hàm được đặt theo quy tắc đặt tên biến và tên của hàm nên bắt đầu một động từ (vì hàm thực hiện một hành động)"
   ]
  },
  {
   "cell_type": "markdown",
   "id": "b0d33717",
   "metadata": {},
   "source": [
    "**2. Ví dụ**\n",
    ">```python\n",
    "> def greeting(name, age):\n",
    "    print(f'Hi, my name is {name}')\n",
    "    print(f'I\\'m {age} years old.')\n",
    ">```\n",
    ">\n",
    ">```python\n",
    "> def squared(a):\n",
    "    '''\n",
    "    Hàm trả về bình phương của một số\n",
    "    Params:\n",
    "    - a (number): Số bất kỳ\n",
    "    Returns:\n",
    "    - Giá trị bình phương của a (number): \n",
    "    '''\n",
    "    print(a**2)\n",
    ">```"
   ]
  },
  {
   "cell_type": "code",
   "execution_count": 2,
   "id": "5bfc04c2",
   "metadata": {},
   "outputs": [],
   "source": [
    "def greeting(name, age):\n",
    "    print(f'Hi, my name is {name}')\n",
    "    print(f'I\\'m {age} years old.')"
   ]
  },
  {
   "cell_type": "code",
   "execution_count": 3,
   "id": "eb6113eb",
   "metadata": {},
   "outputs": [
    {
     "name": "stdout",
     "output_type": "stream",
     "text": [
      "Hi, my name is John\n",
      "I'm 30 years old.\n"
     ]
    }
   ],
   "source": [
    "greeting('John', 30)"
   ]
  },
  {
   "cell_type": "code",
   "execution_count": 4,
   "id": "077e6342",
   "metadata": {},
   "outputs": [
    {
     "name": "stdout",
     "output_type": "stream",
     "text": [
      "Hi, my name is Susan\n",
      "I'm 20 years old.\n"
     ]
    }
   ],
   "source": [
    "greeting('Susan', 20)"
   ]
  },
  {
   "cell_type": "code",
   "execution_count": 5,
   "id": "2dd6f5b5",
   "metadata": {},
   "outputs": [],
   "source": [
    "def squared(a):\n",
    "    '''\n",
    "    Hàm trả về bình phương của một số\n",
    "    Params:\n",
    "    - a (number): Số bất kỳ\n",
    "    Returns:\n",
    "    - Giá trị bình phương của a (number): \n",
    "    '''\n",
    "    print(a**2)"
   ]
  },
  {
   "cell_type": "code",
   "execution_count": 6,
   "id": "bab76b71",
   "metadata": {},
   "outputs": [
    {
     "name": "stdout",
     "output_type": "stream",
     "text": [
      "9\n"
     ]
    }
   ],
   "source": [
    "squared(3)"
   ]
  },
  {
   "cell_type": "code",
   "execution_count": 7,
   "id": "35cac614",
   "metadata": {},
   "outputs": [
    {
     "name": "stdout",
     "output_type": "stream",
     "text": [
      "9\n",
      "4900\n",
      "2916\n",
      "4\n"
     ]
    }
   ],
   "source": [
    "mylist = [3, 70, 54, 2]\n",
    "for i in mylist:\n",
    "    squared(i)"
   ]
  },
  {
   "cell_type": "code",
   "execution_count": 8,
   "id": "d59d0a09",
   "metadata": {},
   "outputs": [
    {
     "name": "stdout",
     "output_type": "stream",
     "text": [
      "\n",
      "    Hàm trả về bình phương của một số\n",
      "    Params:\n",
      "    - a (number): Số bất kỳ\n",
      "    Returns:\n",
      "    - Giá trị bình phương của a (number): \n",
      "    \n"
     ]
    }
   ],
   "source": [
    "print(squared.__doc__)"
   ]
  },
  {
   "cell_type": "code",
   "execution_count": 9,
   "id": "ed3e2b82",
   "metadata": {},
   "outputs": [
    {
     "name": "stdout",
     "output_type": "stream",
     "text": [
      "Help on function squared in module __main__:\n",
      "\n",
      "squared(a)\n",
      "    Hàm trả về bình phương của một số\n",
      "    Params:\n",
      "    - a (number): Số bất kỳ\n",
      "    Returns:\n",
      "    - Giá trị bình phương của a (number):\n",
      "\n"
     ]
    }
   ],
   "source": [
    "help(squared)"
   ]
  },
  {
   "cell_type": "code",
   "execution_count": 10,
   "id": "0a4f109e",
   "metadata": {},
   "outputs": [],
   "source": [
    "import math"
   ]
  },
  {
   "cell_type": "code",
   "execution_count": 11,
   "id": "4d9a6333",
   "metadata": {},
   "outputs": [
    {
     "name": "stdout",
     "output_type": "stream",
     "text": [
      "Help on built-in function sin in module math:\n",
      "\n",
      "sin(x, /)\n",
      "    Return the sine of x (measured in radians).\n",
      "\n"
     ]
    }
   ],
   "source": [
    "help(math.sin)"
   ]
  },
  {
   "cell_type": "markdown",
   "id": "42065609",
   "metadata": {},
   "source": [
    "**3. Hàm có dữ liệu trả về**\n",
    "> Hàm trả về một giá trị đơn  \n",
    "> Hàm trả về nhiều giá trị  \n",
    "> Kiểu của giá trị trả về của hàm là bất kỳ  \n",
    ">\n",
    "> Ví dụ hàm trả về một giá trị đơn\n",
    "> ```python\n",
    ">def mysum(number1, number2):\n",
    "    return number1 + number2\n",
    ">```\n",
    "> Ví dụ hàm trả về nhiều giá trị\n",
    ">```python\n",
    ">def calculation(number1, number2):\n",
    "    summ = number1 + number2\n",
    "    sub = number1 - number2\n",
    "    multip = number1 * number2\n",
    "    return summ, sub, multip\n",
    ">```"
   ]
  },
  {
   "cell_type": "code",
   "execution_count": 12,
   "id": "a4a7a226",
   "metadata": {},
   "outputs": [],
   "source": [
    "def mysum(number1, number2):\n",
    "    return number1 + number2"
   ]
  },
  {
   "cell_type": "code",
   "execution_count": 14,
   "id": "fec92846",
   "metadata": {},
   "outputs": [
    {
     "name": "stdout",
     "output_type": "stream",
     "text": [
      "10\n"
     ]
    }
   ],
   "source": [
    "result = mysum(4,6)\n",
    "print(result)"
   ]
  },
  {
   "cell_type": "code",
   "execution_count": 15,
   "id": "efa0baf7",
   "metadata": {},
   "outputs": [],
   "source": [
    "def mysum1(num1, num2):\n",
    "    print(num1+num2)"
   ]
  },
  {
   "cell_type": "code",
   "execution_count": 16,
   "id": "81606666",
   "metadata": {},
   "outputs": [
    {
     "name": "stdout",
     "output_type": "stream",
     "text": [
      "10\n"
     ]
    }
   ],
   "source": [
    "mysum1(4,6)"
   ]
  },
  {
   "cell_type": "code",
   "execution_count": 17,
   "id": "73e80bd5",
   "metadata": {
    "scrolled": true
   },
   "outputs": [
    {
     "name": "stdout",
     "output_type": "stream",
     "text": [
      "15\n"
     ]
    }
   ],
   "source": [
    "result = mysum(2, 3) + 10\n",
    "print(result)"
   ]
  },
  {
   "cell_type": "code",
   "execution_count": 19,
   "id": "d4373d77",
   "metadata": {},
   "outputs": [
    {
     "name": "stdout",
     "output_type": "stream",
     "text": [
      "5\n",
      "None\n"
     ]
    }
   ],
   "source": [
    "result = mysum1(2,3)\n",
    "print(result)"
   ]
  },
  {
   "cell_type": "code",
   "execution_count": 18,
   "id": "a7731a48",
   "metadata": {},
   "outputs": [
    {
     "name": "stdout",
     "output_type": "stream",
     "text": [
      "5\n"
     ]
    },
    {
     "ename": "TypeError",
     "evalue": "unsupported operand type(s) for +: 'NoneType' and 'int'",
     "output_type": "error",
     "traceback": [
      "\u001b[0;31m---------------------------------------------------------------------------\u001b[0m",
      "\u001b[0;31mTypeError\u001b[0m                                 Traceback (most recent call last)",
      "\u001b[0;32m/var/folders/x8/hf_1256n299_42j1wk8zxyzw0000gp/T/ipykernel_57069/1979683294.py\u001b[0m in \u001b[0;36m<module>\u001b[0;34m\u001b[0m\n\u001b[0;32m----> 1\u001b[0;31m \u001b[0mresult1\u001b[0m \u001b[0;34m=\u001b[0m \u001b[0mmysum1\u001b[0m\u001b[0;34m(\u001b[0m\u001b[0;36m2\u001b[0m\u001b[0;34m,\u001b[0m \u001b[0;36m3\u001b[0m\u001b[0;34m)\u001b[0m \u001b[0;34m+\u001b[0m \u001b[0;36m10\u001b[0m\u001b[0;34m\u001b[0m\u001b[0;34m\u001b[0m\u001b[0m\n\u001b[0m\u001b[1;32m      2\u001b[0m \u001b[0mprint\u001b[0m\u001b[0;34m(\u001b[0m\u001b[0mresult1\u001b[0m\u001b[0;34m)\u001b[0m\u001b[0;34m\u001b[0m\u001b[0;34m\u001b[0m\u001b[0m\n",
      "\u001b[0;31mTypeError\u001b[0m: unsupported operand type(s) for +: 'NoneType' and 'int'"
     ]
    }
   ],
   "source": [
    "result1 = mysum1(2, 3) + 10\n",
    "print(result1)"
   ]
  },
  {
   "cell_type": "code",
   "execution_count": null,
   "id": "495ef33f",
   "metadata": {},
   "outputs": [],
   "source": [
    "print(mysum(2, 3))"
   ]
  },
  {
   "cell_type": "code",
   "execution_count": 20,
   "id": "066ae08f",
   "metadata": {},
   "outputs": [],
   "source": [
    "def calculation(number1, number2):\n",
    "    summ = number1 + number2\n",
    "    sub = number1 - number2\n",
    "    multip = number1 * number2\n",
    "    return summ, sub, multip"
   ]
  },
  {
   "cell_type": "code",
   "execution_count": 21,
   "id": "75ca5705",
   "metadata": {},
   "outputs": [
    {
     "data": {
      "text/plain": [
       "(9, -1, 20)"
      ]
     },
     "execution_count": 21,
     "metadata": {},
     "output_type": "execute_result"
    }
   ],
   "source": [
    "calculation(4, 5)"
   ]
  },
  {
   "cell_type": "code",
   "execution_count": 22,
   "id": "6ed185e2",
   "metadata": {},
   "outputs": [
    {
     "name": "stdout",
     "output_type": "stream",
     "text": [
      "9 -1 20\n"
     ]
    }
   ],
   "source": [
    "s, sub, mul = calculation(4, 5)\n",
    "print(s, sub, mul)"
   ]
  },
  {
   "cell_type": "code",
   "execution_count": 23,
   "id": "f507d832",
   "metadata": {},
   "outputs": [
    {
     "name": "stdout",
     "output_type": "stream",
     "text": [
      "(16, 4, 60)\n",
      "<class 'tuple'>\n"
     ]
    }
   ],
   "source": [
    "result = calculation(10, 6)\n",
    "print(result)\n",
    "print(type(result))"
   ]
  },
  {
   "cell_type": "code",
   "execution_count": 24,
   "id": "bb5b429f",
   "metadata": {},
   "outputs": [
    {
     "ename": "TypeError",
     "evalue": "calculation() missing 1 required positional argument: 'number2'",
     "output_type": "error",
     "traceback": [
      "\u001b[0;31m---------------------------------------------------------------------------\u001b[0m",
      "\u001b[0;31mTypeError\u001b[0m                                 Traceback (most recent call last)",
      "\u001b[0;32m/var/folders/x8/hf_1256n299_42j1wk8zxyzw0000gp/T/ipykernel_57069/3867497500.py\u001b[0m in \u001b[0;36m<module>\u001b[0;34m\u001b[0m\n\u001b[0;32m----> 1\u001b[0;31m \u001b[0mcalculation\u001b[0m\u001b[0;34m(\u001b[0m\u001b[0;36m45\u001b[0m\u001b[0;34m)\u001b[0m\u001b[0;34m\u001b[0m\u001b[0;34m\u001b[0m\u001b[0m\n\u001b[0m",
      "\u001b[0;31mTypeError\u001b[0m: calculation() missing 1 required positional argument: 'number2'"
     ]
    }
   ],
   "source": [
    "calculation(45)"
   ]
  },
  {
   "cell_type": "markdown",
   "id": "b72df91e",
   "metadata": {},
   "source": [
    "**4. Tham số (parameter) và đối số (argument)**\n",
    "> * Tham số là các biến được khai báo trong phần header của hàm\n",
    "> * Đối số là giá trị cụ thể của tham số khi gọi hàm mà người dùng truyền vào hàm\n",
    "> ```python\n",
    ">def calculation(number1, number2):\n",
    "    summ = number1 + number2\n",
    "    sub = number1 - number2\n",
    "    multip = number1 * number2\n",
    "    return summ, sub, multip    \n",
    "> calculation(4,5)\n",
    ">```\n",
    "Ở ví dụ trên, `number1` và `number2` là các tham số của hàm, còn các giá trị `4` và `5` là các đối số."
   ]
  },
  {
   "cell_type": "markdown",
   "id": "fd675aef",
   "metadata": {},
   "source": [
    "**5. Gọi hàm**\n",
    "> * Là cách thức để thực thi một hàm đã được xây dựng trước đó\n",
    "> * Khi gọi hàm thì cần truyền đối số cho hàm\n",
    "> * Gọi hàm không có giá trị trả về\n",
    ">```python\n",
    ">greeting('John', 30)\n",
    ">```\n",
    "> * Gọi hàm có gias trị trả về\n",
    ">```python\n",
    ">s, sub, mul = calculation(4, 5)\n",
    "print(s, sub, mul)\n",
    "> #or  \n",
    "> result = calculation(4, 5)\n",
    ">```"
   ]
  },
  {
   "cell_type": "markdown",
   "id": "50db0c65",
   "metadata": {},
   "source": [
    "**6. Đối số của hàm**\n",
    "> Khi gọi hàm, đối số của hàm có thể được truyền vào hàm theo một trong các cách sau:  \n",
    "> * Đối số bắt buộc (required arguments or positional arguments)\n",
    "> * Từ khoá đối số (keyword arguments)\n",
    "> * Đối số mặc định (default arguments)\n",
    "> * Đối số có số lượng bất kỳ (variable-length arguments)"
   ]
  },
  {
   "cell_type": "markdown",
   "id": "8f696c77",
   "metadata": {},
   "source": [
    "**6.1 Đối số bắt buộc**\n",
    "> Đối số bắt buộc được truyền vào hàm theo đúng thứ tự và số lượng như lúc định nghĩa hàm  \n",
    ">\n",
    "> Kiểm tra một số ví dụ sau:  \n",
    ">```python\n",
    "def calculation(number1, number2):\n",
    "  summ = number1 + number2\n",
    "  sub = number1 - number2\n",
    "  multip = number1 * number2\n",
    "  return summ, sub, multip\n",
    "> #Gọi hàm\n",
    "> calculation()\n",
    "> num1 = 4, num2 = 5\n",
    "> calculation(num1, num2)\n",
    "> calculation(num2, num1)\n",
    "> ```"
   ]
  },
  {
   "cell_type": "code",
   "execution_count": 25,
   "id": "1758d844",
   "metadata": {},
   "outputs": [],
   "source": [
    "def calculation(number1, number2=10):\n",
    "    summ = number1 + number2\n",
    "    return summ"
   ]
  },
  {
   "cell_type": "code",
   "execution_count": 26,
   "id": "bba83a79",
   "metadata": {},
   "outputs": [
    {
     "name": "stdout",
     "output_type": "stream",
     "text": [
      "10\n"
     ]
    }
   ],
   "source": [
    "print(calculation(4, 6))"
   ]
  },
  {
   "cell_type": "code",
   "execution_count": 27,
   "id": "14f472b8",
   "metadata": {},
   "outputs": [
    {
     "name": "stdout",
     "output_type": "stream",
     "text": [
      "14\n"
     ]
    }
   ],
   "source": [
    "print(calculation(4))"
   ]
  },
  {
   "cell_type": "code",
   "execution_count": 28,
   "id": "c505e6ca",
   "metadata": {},
   "outputs": [
    {
     "name": "stdout",
     "output_type": "stream",
     "text": [
      "10\n"
     ]
    }
   ],
   "source": [
    "print(calculation(4, number2 = 6))"
   ]
  },
  {
   "cell_type": "code",
   "execution_count": 32,
   "id": "f73da887",
   "metadata": {},
   "outputs": [],
   "source": [
    "def mysum(a, b=10, c=20):\n",
    "    return a+b+c"
   ]
  },
  {
   "cell_type": "code",
   "execution_count": 30,
   "id": "913cdbad",
   "metadata": {},
   "outputs": [
    {
     "name": "stdout",
     "output_type": "stream",
     "text": [
      "18\n"
     ]
    }
   ],
   "source": [
    "print(mysum(4, c=4, b=10))"
   ]
  },
  {
   "cell_type": "markdown",
   "id": "5b5d20a3",
   "metadata": {},
   "source": [
    "**6.2 Đối số từ khoá**\n",
    "> Khi gọi hàm, đối số có thể được truyền vào thông qua tên của tham số khi định nghĩa hàm. Khi đó, thứ tự của các đối số truyền vào hàm có thể là tuỳ ý.  \n",
    "> \n",
    ">```python\n",
    "def calculation(number1, number2):\n",
    "  summ = number1 + number2\n",
    "  sub = number1 - number2\n",
    "  multip = number1 * number2\n",
    "  return summ, sub, multip\n",
    "> #Gọi hàm\n",
    "> calculation(number1=4, number2=5)\n",
    "> calculation(number2=5, number1=4)\n",
    "> ```"
   ]
  },
  {
   "cell_type": "markdown",
   "id": "551b7ec1",
   "metadata": {},
   "source": [
    "**6.3 Đối số mặc định**\n",
    "> Khi gọi hàm, giá trị của đối số có thể không được truyền vào mà hàm sẽ nhận giá trị mặc định là giá trị được thiết đặt lúc định nghĩa hàm.  \n",
    "> \n",
    ">```python\n",
    "def calculation(number1, number2=10):\n",
    "  summ = number1 + number2\n",
    "  sub = number1 - number2\n",
    "  multip = number1 * number2\n",
    "  return summ, sub, multip\n",
    "> #Gọi hàm\n",
    "> calculation(4)\n",
    "> calculation(5, 7)\n",
    "> ```"
   ]
  },
  {
   "cell_type": "markdown",
   "id": "d0e2aa60",
   "metadata": {},
   "source": [
    "**6.4 Đối số có số lượng bất kỳ**\n",
    "> Khi gọi hàm, số lượng của đối số có thể được truyền vào hàm với số lượng bất kỳ, không xác định được khi định nghĩa hàm. Những đối số này khi truyền vào hàm không có từ khoá và không có giá trị mặc định.\n",
    ">\n",
    ">```python\n",
    ">def sumup(a, *nums):\n",
    "    s = a\n",
    "    for i in nums:\n",
    "        s+=i\n",
    "    return s\n",
    ">\n",
    "># gọi hàm\n",
    "> sumup(10, 3)\n",
    "> sumup(10, 4, 6, 3)\n",
    "> sumup(10)\n",
    ">```"
   ]
  },
  {
   "cell_type": "code",
   "execution_count": 33,
   "id": "4ad5ecba",
   "metadata": {},
   "outputs": [],
   "source": [
    "def sumup(a, *nums):\n",
    "    s = a\n",
    "    for i in nums:\n",
    "        s+=i\n",
    "    return s"
   ]
  },
  {
   "cell_type": "code",
   "execution_count": 34,
   "id": "1174c9c4",
   "metadata": {},
   "outputs": [
    {
     "data": {
      "text/plain": [
       "13"
      ]
     },
     "execution_count": 34,
     "metadata": {},
     "output_type": "execute_result"
    }
   ],
   "source": [
    "sumup(10, 3)"
   ]
  },
  {
   "cell_type": "code",
   "execution_count": 35,
   "id": "e50e814e",
   "metadata": {},
   "outputs": [
    {
     "data": {
      "text/plain": [
       "23"
      ]
     },
     "execution_count": 35,
     "metadata": {},
     "output_type": "execute_result"
    }
   ],
   "source": [
    "sumup(10, 4, 6, 3)"
   ]
  },
  {
   "cell_type": "code",
   "execution_count": 36,
   "id": "883693d0",
   "metadata": {},
   "outputs": [
    {
     "data": {
      "text/plain": [
       "10"
      ]
     },
     "execution_count": 36,
     "metadata": {},
     "output_type": "execute_result"
    }
   ],
   "source": [
    "sumup(10)"
   ]
  },
  {
   "cell_type": "code",
   "execution_count": null,
   "id": "c3fbfa11",
   "metadata": {},
   "outputs": [],
   "source": [
    "def increment(x):\n",
    "    x = x + 10\n",
    "    print(x)"
   ]
  },
  {
   "cell_type": "code",
   "execution_count": null,
   "id": "47a907ec",
   "metadata": {},
   "outputs": [],
   "source": [
    "x = 10\n",
    "print('not call', x)\n",
    "increment(x)\n",
    "print('called', x)"
   ]
  },
  {
   "cell_type": "markdown",
   "id": "690292d2",
   "metadata": {},
   "source": [
    "**7. Truyền tham chiếu và truyền tham trị**\n",
    "> Khi truyền tham chiếu, giá trị của biến sẽ được thay đổi trong hàm  \n",
    "> Khi truyền tham trị, giá trị của biến chỉ thay đổi trong phạm vi của hàm, giá trị của biến đó không thay đổi sau khi gọi hàm  \n",
    ">\n",
    "> Ví dụ truyền tham chiếu\n",
    ">```python\n",
    ">def append(_list, val):\n",
    "    _list.append(val)\n",
    "    print('Trong phạm vi hàm', _list)\n",
    ">\n",
    ">fruits = ['Lemon', 'Cherry', 'Apple']\n",
    ">print('Trước khi thêm: ', fruits)\n",
    ">append(fruits, 'Mango')\n",
    ">print('Sau khi thêm: ', fruits)\n",
    ">```\n",
    "> Ví dụ truyền tham trị\n",
    ">```python\n",
    ">def decrement(num):\n",
    "    num-=1\n",
    "    print('Trong phạm vi hàm', num)\n",
    ">\n",
    ">number = 10\n",
    ">print('Trước khi gọi hàm: ', number)\n",
    ">decrement(number)\n",
    ">print('Sau khi gọi hàm: ', number)\n",
    ">```"
   ]
  },
  {
   "cell_type": "code",
   "execution_count": 37,
   "id": "5050b424",
   "metadata": {},
   "outputs": [
    {
     "name": "stdout",
     "output_type": "stream",
     "text": [
      "Trước khi gọi hàm thêm:  ['Lemon', 'Cherry', 'Apple']\n",
      "Trong phạm vi hàm ['Lemon', 'Cherry', 'Apple', 'Mango']\n",
      "Sau khi gọi hàm thêm:  ['Lemon', 'Cherry', 'Apple', 'Mango']\n"
     ]
    }
   ],
   "source": [
    "def myappend(_list, val):\n",
    "    _list.append(val)\n",
    "    print('Trong phạm vi hàm', _list)\n",
    "\n",
    "fruits = ['Lemon', 'Cherry', 'Apple']\n",
    "print('Trước khi gọi hàm thêm: ', fruits)\n",
    "myappend(fruits, 'Mango')\n",
    "print('Sau khi gọi hàm thêm: ', fruits)"
   ]
  },
  {
   "cell_type": "code",
   "execution_count": 38,
   "id": "515e9962",
   "metadata": {},
   "outputs": [
    {
     "name": "stdout",
     "output_type": "stream",
     "text": [
      "Trước khi gọi hàm:  10\n"
     ]
    }
   ],
   "source": [
    "def mydecrement(num):\n",
    "    num-=1\n",
    "    print('Trong phạm vi hàm', num)\n",
    "    return num\n",
    "\n",
    "number = 10\n",
    "print('Trước khi gọi hàm: ', number)"
   ]
  },
  {
   "cell_type": "code",
   "execution_count": 40,
   "id": "61ba7bc8",
   "metadata": {},
   "outputs": [
    {
     "name": "stdout",
     "output_type": "stream",
     "text": [
      "Trong phạm vi hàm 9\n",
      "9\n",
      "Sau khi gọi hàm:  10\n"
     ]
    }
   ],
   "source": [
    "result = mydecrement(number)\n",
    "print(result)\n",
    "print('Sau khi gọi hàm: ', number)"
   ]
  },
  {
   "cell_type": "markdown",
   "id": "c341e79f",
   "metadata": {},
   "source": [
    "**8. Phạm vi của biến**\n",
    "> * Biến cục bộ (local variables): Chỉ truy cập ở trong phạm vi của hàm đó \n",
    "> * Biến toàn cục (global variables): Truy cập được ở trong và ngoài hàm  \n",
    "> * Khi hàm muốn thay đổi giá trị của biến toàn cục, phải khai báo biến đó ở trong hàm với từ khoá `global` phía trước tên biến."
   ]
  },
  {
   "cell_type": "code",
   "execution_count": 41,
   "id": "f2eb8842",
   "metadata": {},
   "outputs": [
    {
     "name": "stdout",
     "output_type": "stream",
     "text": [
      "6\n",
      "10\n"
     ]
    }
   ],
   "source": [
    "x = 10\n",
    "def increment():\n",
    "    x = 1\n",
    "    x = x + 5\n",
    "    print(x)\n",
    "\n",
    "increment()\n",
    "print(x)"
   ]
  },
  {
   "cell_type": "code",
   "execution_count": 44,
   "id": "37407ba8",
   "metadata": {},
   "outputs": [
    {
     "name": "stdout",
     "output_type": "stream",
     "text": [
      "15\n",
      "15\n"
     ]
    }
   ],
   "source": [
    "x = 10\n",
    "def increment():\n",
    "    global x\n",
    "    x=x+5\n",
    "    print(x)\n",
    "\n",
    "increment()\n",
    "print(x)"
   ]
  },
  {
   "cell_type": "markdown",
   "id": "dface147",
   "metadata": {},
   "source": [
    "**9. Hàm nặc danh (Anonymous functions)**\n",
    "> Đặc điểm của hàm nặc danh  \n",
    ">\n",
    "> * Số lượng đối số truyền vào hàm không giới hạn  \n",
    "> * Trả về chỉ một giá trị   \n",
    "> * Thân hàm chỉ chứa 1 dòng lệnh  \n",
    "> * Thân hàm không thể gọi lệnh `print`  \n",
    "> * Không thể truy cập đến các biến `global`  \n",
    ">\n",
    "> Ví dụ: \n",
    ">\n",
    ">```python\n",
    ">sub = lambda x, y: x - y\n",
    ">\n",
    ">print(sub(8, 3))\n",
    ">```"
   ]
  },
  {
   "cell_type": "code",
   "execution_count": 45,
   "id": "58b85886",
   "metadata": {},
   "outputs": [],
   "source": [
    "def mysub(x, y):\n",
    "    return x-y"
   ]
  },
  {
   "cell_type": "code",
   "execution_count": 46,
   "id": "d5a8906b",
   "metadata": {},
   "outputs": [
    {
     "name": "stdout",
     "output_type": "stream",
     "text": [
      "3\n"
     ]
    }
   ],
   "source": [
    "print(mysub(9, 6))"
   ]
  },
  {
   "cell_type": "code",
   "execution_count": 47,
   "id": "f5526dbb",
   "metadata": {},
   "outputs": [
    {
     "name": "stdout",
     "output_type": "stream",
     "text": [
      "5\n"
     ]
    }
   ],
   "source": [
    "sub = lambda x, y: x - y\n",
    "\n",
    "print(sub(8, 3))"
   ]
  },
  {
   "cell_type": "markdown",
   "id": "ab8af6ab",
   "metadata": {},
   "source": [
    "**Bài tập về nhà**\n",
    "> Làm lại các bài tập các buổi học trước dưới dạng định nghĩa hàm"
   ]
  },
  {
   "cell_type": "markdown",
   "id": "58b8b661",
   "metadata": {},
   "source": [
    "A generator is a concise way to construct a new iterable object. Whereas normal func‐tions  execute  and  return  a  single  result  at  a  time,  generators  return  a  sequence  ofmultiple results lazily, pausing after each one until the next one is requested. To createa generator, use the `yield` keyword instead of `return` in a function"
   ]
  },
  {
   "cell_type": "code",
   "execution_count": null,
   "id": "f3562d93",
   "metadata": {},
   "outputs": [],
   "source": [
    "def squares(n=10):\n",
    "    print('Generating squares from 1 to {0}'.format(n ** 2))\n",
    "    for i in range(1, n + 1):\n",
    "        yield i ** 2"
   ]
  },
  {
   "cell_type": "markdown",
   "id": "0d033aec",
   "metadata": {},
   "source": [
    "When you actually call the generator, no code is immediately executed:"
   ]
  },
  {
   "cell_type": "code",
   "execution_count": null,
   "id": "beeb4479",
   "metadata": {},
   "outputs": [],
   "source": [
    "gen = squares()\n",
    "gen"
   ]
  },
  {
   "cell_type": "code",
   "execution_count": null,
   "id": "dbf605ef",
   "metadata": {},
   "outputs": [],
   "source": [
    "for x in gen:\n",
    "    print(x, end=' ')"
   ]
  },
  {
   "cell_type": "code",
   "execution_count": null,
   "id": "35061e01",
   "metadata": {},
   "outputs": [],
   "source": [
    "gen = (x ** 2 for x in range(100))"
   ]
  },
  {
   "cell_type": "code",
   "execution_count": null,
   "id": "64106cbf",
   "metadata": {},
   "outputs": [],
   "source": [
    "gen"
   ]
  },
  {
   "cell_type": "code",
   "execution_count": null,
   "id": "d971f8a5",
   "metadata": {},
   "outputs": [],
   "source": [
    "for x in gen:\n",
    "    print(x, end=' ')"
   ]
  },
  {
   "cell_type": "code",
   "execution_count": null,
   "id": "32571639",
   "metadata": {},
   "outputs": [],
   "source": []
  }
 ],
 "metadata": {
  "kernelspec": {
   "display_name": "Python 3 (ipykernel)",
   "language": "python",
   "name": "python3"
  },
  "language_info": {
   "codemirror_mode": {
    "name": "ipython",
    "version": 3
   },
   "file_extension": ".py",
   "mimetype": "text/x-python",
   "name": "python",
   "nbconvert_exporter": "python",
   "pygments_lexer": "ipython3",
   "version": "3.9.13"
  }
 },
 "nbformat": 4,
 "nbformat_minor": 5
}
