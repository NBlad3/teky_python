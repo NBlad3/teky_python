{
 "cells": [
  {
   "cell_type": "markdown",
   "id": "11a5c2c8",
   "metadata": {},
   "source": [
    "### Bài tập về List, Tuple, Function\n",
    "> Các bài tập đều có thể được giải quyết theo cách định nghĩa hàm"
   ]
  },
  {
   "cell_type": "markdown",
   "id": "51413fe1",
   "metadata": {},
   "source": [
    "**1. Khởi tạo list với số phần tử xác định trước**\n",
    "\n",
    "Nhập vào một số tự nhiên N, khởi tạo một list có N phần tử, các phần tử là các số tự nhiên được nhập từ người dùng bởi hàm `input()`.     \n",
    "\n",
    "Ví dụ:  \n",
    "\n",
    "Nhập N = 4  \n",
    "In ra màn hình: [4, 7, 12, 0]"
   ]
  },
  {
   "cell_type": "code",
   "execution_count": 14,
   "id": "fc146eff",
   "metadata": {},
   "outputs": [
    {
     "name": "stdout",
     "output_type": "stream",
     "text": [
      "[3, 2]\n"
     ]
    }
   ],
   "source": [
    "def n_list(N):\n",
    "    while N < 1:\n",
    "        N = int(input(\"Nhap so N lon hon 0: \"))\n",
    "    alist = []\n",
    "    for i in range(N):\n",
    "        user_input = int(input(f\"{i + 1}. Nhap so: \"))\n",
    "        while user_input < 0:\n",
    "            user_input = int(input(f\"{i + 1}. Nhap so 0 hay lon hon: \"))\n",
    "        alist.append(user_input)   \n",
    "    return alist\n",
    "\n",
    "user_input = int(input(\"Nhap mot so N: \"))\n",
    "print(n_list(user_input))"
   ]
  },
  {
   "cell_type": "markdown",
   "id": "6106efca",
   "metadata": {},
   "source": [
    "**2. Thêm một phần tử vào list**  \n",
    "\n",
    "* Nhập một số tự nhiên bất kỳ. Hãy thêm số tự nhiên đó vào cuối list được khởi tạo ở phần 1.  \n",
    "* Nhập thêm 2 một số tự nhiên m, n. Hãy thêm số tự nhiên m vào vị trí n của list trên. Nếu n lớn hơn độ dài của list thì thêm vào cuối list, n nhỏ hơn 0 thì thêm vào đầu list.  \n",
    "\n",
    "Ví dụ:  \n",
    "\n",
    "```python \n",
    "alist = [4, 7, 12, 0]  \n",
    "m=5, n=-1 thì alist = [5, 4, 7, 12, 0]  \n",
    "m=5, n=2 thì alist = [4, 5, 7, 12, 0]  \n",
    "m=5, n=10 thì alist = [4, 7, 12, 0]  \n",
    "```"
   ]
  },
  {
   "cell_type": "code",
   "execution_count": 12,
   "id": "015f3d7a",
   "metadata": {},
   "outputs": [
    {
     "name": "stdout",
     "output_type": "stream",
     "text": [
      "[2, 2, 3, 2, 3]\n"
     ]
    }
   ],
   "source": [
    "def insert_list(m, n):\n",
    "    alist = [4, 7, 12, 0]\n",
    "    if n < 0:\n",
    "        alist.insert(0, m)\n",
    "    #elif n > len(my_list):\n",
    "        #my_list.append(m)\n",
    "    else:\n",
    "        alist.insert(n, m)\n",
    "    return alist\n",
    "\n",
    "m, n = map(int, input(\"Nhap vao m va n\").split())\n",
    "print(insert_list(m, n))"
   ]
  },
  {
   "cell_type": "markdown",
   "id": "178b51b2",
   "metadata": {},
   "source": [
    "**3. Cập nhật giá trị của phần tử trong list** \n",
    "\n",
    "Nhập vào 2 số tự nhiên m, n. Hãy cập nhật giá trị của phần tử thứ n trong list bằng giá trị m. Nếu n<0 hoặc lớn hơn độ dài của list thì báo lỗi.  \n",
    "\n",
    "Ví dụ:  \n",
    "\n",
    "```python \n",
    "alist = [4, 7, 12, 0]  \n",
    "m=5, n=-1 ## Hiển thị thông báo lỗi  \n",
    "m=5, n=2 thì alist = [4, 5, 12, 0]  \n",
    "m=5, n=10 ## Hiển thị thông báo lỗi  \n",
    "```"
   ]
  },
  {
   "cell_type": "code",
   "execution_count": null,
   "id": "cebb86bd",
   "metadata": {},
   "outputs": [],
   "source": []
  },
  {
   "cell_type": "markdown",
   "id": "ed502e40",
   "metadata": {},
   "source": [
    "**4. Xoá phần tử trong list** \n",
    "\n",
    "* Nhập vào số tự nhiên m. Nếu m có trong list đã cho ở trên, thì xoá phần tử có giá trị = m ra khỏi list. Trong trường hợp có nhiều phần tử = m, thực hiện cả hai trường hợp 1)chỉ xoá phần tử đầu tiên, 2) xoá tất cả các phần tử có giá trị =m.  Trường hợp không có phần tử nào = m, hiển thị thông báo tương ứng.  \n",
    "* Nhập vào 2 số tự nhiên n. Hãy xoá phần tử thứ n khỏi list đã cho. Nếu n<0 hoặc lớn hơn độ dài của list thì báo lỗi.  \n",
    "\n",
    "Ví dụ 1:  \n",
    "```python \n",
    "alist = [4, 7, 12, 0]  \n",
    "m=5,  ## Hiển thị thông báo không tìm thấy \n",
    "m=7, thì alist = [4, 12, 0]  \n",
    "\n",
    "```\n",
    "Ví dụ 2:  \n",
    "\n",
    "```python \n",
    "alist = [4, 7, 12, 0]  \n",
    "n=-1 ## Hiển thị thông báo lỗi  \n",
    "n=3 thì alist = [4, 7, 0]  \n",
    "n=10 ## Hiển thị thông báo lỗi  \n",
    "```"
   ]
  },
  {
   "cell_type": "code",
   "execution_count": 2,
   "id": "63043da0",
   "metadata": {},
   "outputs": [
    {
     "name": "stdout",
     "output_type": "stream",
     "text": [
      "[7, 12, 0]\n"
     ]
    }
   ],
   "source": [
    "def del_num(m):\n",
    "    alist = [4, 7, 12, 0]\n",
    "    if m in alist:\n",
    "        alist.remove(m)\n",
    "        return alist\n",
    "    else:\n",
    "        return \"There is no m in my_list\"\n",
    "\n",
    "user_input = int(input(\"Nhap so m: \"))\n",
    "print(del_num(user_input))"
   ]
  },
  {
   "cell_type": "markdown",
   "id": "2087823a",
   "metadata": {},
   "source": [
    "**5. In list theo thứ tự ngược lại**  \n",
    "\n",
    "Cho một list = [9, 'green', 4, 0, True, 5]   \n",
    "In list đã cho ra màn hình theo thứ tự ngược lại (5 True 0 4 green 9)."
   ]
  },
  {
   "cell_type": "code",
   "execution_count": 15,
   "id": "0c2146ed",
   "metadata": {},
   "outputs": [
    {
     "name": "stdout",
     "output_type": "stream",
     "text": [
      "5\n",
      "True\n",
      "0\n",
      "4\n",
      "green\n",
      "9\n"
     ]
    }
   ],
   "source": [
    "_list = [9, 'green', 4, 0, True, 5]\n",
    "for i in reversed(_list):\n",
    "    print(i)"
   ]
  },
  {
   "cell_type": "markdown",
   "id": "d8e3e39c",
   "metadata": {},
   "source": [
    "**6. Khởi tạo một list từ một list có sẵn**  \n",
    "\n",
    "Cho một list a = [-3, 5, 0, 2, 9]. Tạo một list b có các phần tử có giá trị là bình phương của các phần tử trong list a tương ứng.   \n",
    "List b sẽ là b = [9, 25, 0, 4, 81]"
   ]
  },
  {
   "cell_type": "code",
   "execution_count": 20,
   "id": "d4949a43",
   "metadata": {},
   "outputs": [
    {
     "name": "stdout",
     "output_type": "stream",
     "text": [
      "9\n",
      "25\n",
      "0\n",
      "4\n",
      "81\n"
     ]
    }
   ],
   "source": [
    "a = [-3, 5, 0, 2, 9]\n",
    "for i in a:\n",
    "    print(i**2)"
   ]
  },
  {
   "cell_type": "markdown",
   "id": "783b8d2d",
   "metadata": {},
   "source": [
    "**7. Khởi tạo một list từ một list có sẵn**  \n",
    "\n",
    "Cho một list a = [-7, 6, 0, 3, 1]. Tạo một list b có các phần tử lẻ đứng trước toàn bộ các phần tử chẵn.   \n",
    "List b sẽ là b = [-7, 3, 1, 6, 0]"
   ]
  },
  {
   "cell_type": "code",
   "execution_count": 21,
   "id": "107cff59",
   "metadata": {},
   "outputs": [
    {
     "name": "stdout",
     "output_type": "stream",
     "text": [
      "[-7, 3, 1, 6, 0]\n"
     ]
    }
   ],
   "source": [
    "a = [-7, 6, 0, 3, 1]\n",
    "b = []\n",
    "\n",
    "for i in a:\n",
    "    if i % 2 == 1:\n",
    "        b.append(i)\n",
    "for i in a:\n",
    "    if i % 2 == 0:\n",
    "        b.append(i)  \n",
    "\n",
    "print(b)"
   ]
  },
  {
   "cell_type": "markdown",
   "id": "c451d8be",
   "metadata": {},
   "source": [
    "**8. Tìm phần tử trong list**  \n",
    "\n",
    "Cho một list a = [-3, 2, 6, 5, 0, 2, 9, 5]. Nhập vào một số tự nhiên m, tìm vị trí xuất hiện đầu tiên của m trong list a đã cho.   \n",
    "\n",
    "Ví dụ:  \n",
    "```python\n",
    "m=-3, # in ra 1\n",
    "m=2, # in ra 2\n",
    "m=5, # in ra 4\n",
    "```"
   ]
  },
  {
   "cell_type": "code",
   "execution_count": 22,
   "id": "51979aae",
   "metadata": {},
   "outputs": [
    {
     "name": "stdout",
     "output_type": "stream",
     "text": [
      "1\n"
     ]
    }
   ],
   "source": [
    "a = [-3, 2, 6, 5, 0, 2, 9, 5]\n",
    "m = int(input(\"Nhap so: \"))\n",
    "print(a.index(m))"
   ]
  },
  {
   "cell_type": "markdown",
   "id": "844a1677",
   "metadata": {},
   "source": [
    "**9. Tính số tiền**   \n",
    "\n",
    "Nam có 10 viên bi màu được biểu diễn bằng list như sau:\n",
    "```python\n",
    "marbles = ['green', 'red', 'red', 'yellow', 'green', 'green', 'red', 'yellow', 'red', 'red']\n",
    "```\n",
    "Biết rằng, mỗi viên bi màu đỏ có giá 5 ngàn, màu xanh 10 ngàn và màu vàng 15 ngàn. Hỏi số tiền Nam đã chi để mua số bi trên.  "
   ]
  },
  {
   "cell_type": "code",
   "execution_count": 13,
   "id": "5ebaf0dc",
   "metadata": {},
   "outputs": [
    {
     "name": "stdout",
     "output_type": "stream",
     "text": [
      "85000\n"
     ]
    }
   ],
   "source": [
    "marbles = ['green', 'red', 'red', 'yellow', 'green', 'green', 'red', 'yellow', 'red', 'red']\n",
    "sum_money = 0\n",
    "for i in marbles:\n",
    "    if i == \"red\":\n",
    "        sum_money += 5000\n",
    "    elif i == \"green\":\n",
    "        sum_money += 10000\n",
    "    else:\n",
    "        sum_money += 15000\n",
    "print(sum_money)"
   ]
  },
  {
   "cell_type": "markdown",
   "id": "13407541",
   "metadata": {},
   "source": [
    "**10. Tìm min, max**  \n",
    "\n",
    "Cho một chuỗi như dưới gồm các chữ cái và chữ số. Các số trong chuỗi được xác định bởi các dấu cách.    \n",
    "```python\n",
    "text = \"abd 34 tr13 85 sh 342 21 def\"\n",
    "```\n",
    "* Tìm số lớn nhất, bé nhất (Kết quả là 342 và 21)\n",
    "* Tìm số chẵn nhỏ nhất, số lẻ lớn nhất (Kết quả là 34 và 85)"
   ]
  },
  {
   "cell_type": "code",
   "execution_count": 26,
   "id": "0cf8e280",
   "metadata": {},
   "outputs": [
    {
     "name": "stdout",
     "output_type": "stream",
     "text": [
      "So lon nhat: 342\n",
      "So be nhat: 21\n",
      "So chan be nhat: 34\n",
      "So le lon nhat: 85\n"
     ]
    }
   ],
   "source": [
    "text = \"abd 34 tr13 85 sh 342 21 def\"\n",
    "\n",
    "words = text.split()\n",
    "\n",
    "largest_number = float(\"-inf\")\n",
    "smallest_number = float(\"inf\")\n",
    "smallest_even_number = float(\"inf\")\n",
    "largest_odd_number = float(\"-inf\")\n",
    "\n",
    "for word in words:\n",
    "    if word.isdigit():\n",
    "        number = int(word)\n",
    "        if number > largest_number:\n",
    "            largest_number = number\n",
    "        if number < smallest_number:\n",
    "            smallest_number = number\n",
    "        if number % 2 == 0:\n",
    "            if number < smallest_even_number:\n",
    "                smallest_even_number = number\n",
    "        else:\n",
    "            if number > largest_odd_number:\n",
    "                largest_odd_number = number\n",
    "\n",
    "print(\"So lon nhat:\", largest_number)\n",
    "print(\"So be nhat:\", smallest_number)\n",
    "print(\"So chan be nhat:\", smallest_even_number)\n",
    "print(\"So le lon nhat:\", largest_odd_number)\n"
   ]
  },
  {
   "cell_type": "markdown",
   "id": "84f7b0f3",
   "metadata": {},
   "source": [
    "**11. Chuỗi con**  \n",
    "\n",
    "Nhập một chuỗi gồm các kí tự là số. Tìm chuỗi con trong chuỗi vừa nhập là chuỗi gồm các số giảm dần dài nhất. Ví dụ nhập chuỗi '09543134247431035' thì có hai chuỗi thoả mãn là '95431' và '74310'."
   ]
  },
  {
   "cell_type": "code",
   "execution_count": 30,
   "id": "aca5ecd7",
   "metadata": {},
   "outputs": [
    {
     "name": "stdout",
     "output_type": "stream",
     "text": [
      "95431\n"
     ]
    }
   ],
   "source": [
    "text = '09543134247431035'\n",
    "text_copy = text[0]\n",
    "for i in range(1, len(text)):\n",
    "    if text[i]>= text[i-1]:\n",
    "        text_copy+=' '+text[i]\n",
    "    else:\n",
    "        text_copy+=text[i]\n",
    "nums = text_copy.split()\n",
    "len_sequence = float(\"-inf\")\n",
    "for num in nums:\n",
    "    if len(num) > len_sequence:\n",
    "        len_sequence = len(num)\n",
    "        sequence = num\n",
    "print(sequence)\n",
    "        "
   ]
  },
  {
   "cell_type": "markdown",
   "id": "02a35a8f",
   "metadata": {},
   "source": [
    "**12. Thống kê**  \n",
    "\n",
    "Cho một list sinh viên như sau:\n",
    "```python\n",
    "students = ['Hà Văn Bình', 'Hà Mạnh Đức', 'Võ Hoàng Uyên', 'Nguyễn Văn Đức', 'Lê Minh Hà']\n",
    "```\n",
    "* Hỏi có bao nhiêu người họ Hà?\n",
    "* Bao nhiêu người tên Đức?"
   ]
  },
  {
   "cell_type": "code",
   "execution_count": 32,
   "id": "c4361be2",
   "metadata": {},
   "outputs": [
    {
     "name": "stdout",
     "output_type": "stream",
     "text": [
      "1 2\n"
     ]
    }
   ],
   "source": [
    "students = ['Hà Văn Bình', 'Hà Mạnh Đức', 'Võ Hoàng Uyên', 'Nguyễn Văn Đức', 'Lê Minh Hà']\n",
    "Binhs = 0\n",
    "Has = 0\n",
    "for student in students:\n",
    "    if \"Bình\" in student:\n",
    "        Binhs += 1\n",
    "    elif \"Hà\" in student:\n",
    "        Has += 1\n",
    "print(Binhs, Has) \n",
    "\n",
    "\n",
    "\n"
   ]
  },
  {
   "cell_type": "markdown",
   "id": "e449ce70",
   "metadata": {},
   "source": [
    "**13. Diện tích hình chữ nhật**  \n",
    "\n",
    "Cho một list gồm thông tin của nhiều hình chữ nhật, thông tin mỗi hình chữ nhật gồm chiều dài và chiều rộng được lưu trong một tuple như sau:  \n",
    "```python\n",
    "rects = [(12.4, 5), (6, 3), (4.3, 5.6), (12.0, 2.1), (9.5, 3.5)]\n",
    "```\n",
    "\n",
    "* Tạo một list mới lưu thông tin chu vi và diện tích tương ứng của các hình chữ nhật. Thông tin chu vi và diện tích mỗi hình chữ nhật được lưu trong một tuple (có cấu trúc như list đầu bài)  \n",
    "* In thông tin hình chữ nhật có diện tích lớn nhất, nhỏ nhất"
   ]
  },
  {
   "cell_type": "code",
   "execution_count": 1,
   "id": "c4954b57",
   "metadata": {},
   "outputs": [
    {
     "name": "stdout",
     "output_type": "stream",
     "text": [
      "[(34.8, 62.0), (18, 18), (19.799999999999997, 24.08), (28.2, 25.200000000000003), (26.0, 33.25)]\n"
     ]
    }
   ],
   "source": [
    "rects = [(12.4, 5), (6, 3), (4.3, 5.6), (12.0, 2.1), (9.5, 3.5)]\n",
    "infos = []\n",
    "\n",
    "for width, height in rects:\n",
    "    perimeter = width * 2 + height * 2\n",
    "    area = width * height\n",
    "    infos.append((perimeter, area))\n",
    "print(infos)\n"
   ]
  },
  {
   "cell_type": "markdown",
   "id": "543890e5",
   "metadata": {},
   "source": [
    "**14. Số bình phương**  \n",
    "\n",
    "Cho một list gồm các cặp số, mỗi một cặp số được lưu trong một tuple như sau:  \n",
    "```python\n",
    "numbers = [(1, 4), (3, 9), (-3, 9), (4, 7), (8, 5)]\n",
    "```\n",
    "\n",
    "* Tìm các cặp số mà số thứ 2 là bình phương của số thứ nhất.    \n",
    "* Tìm các cặp số mà cả 2 số đều là số nguyên tố (số nguyên tố là số chỉ chia hết cho 1 và chính nó).\n"
   ]
  },
  {
   "cell_type": "code",
   "execution_count": 2,
   "id": "ad2f9f9f",
   "metadata": {},
   "outputs": [
    {
     "name": "stdout",
     "output_type": "stream",
     "text": [
      "Cặp số trong đó số thứ hai là bình phương của số đầu tiên: [(3, 9), (-3, 9)]\n"
     ]
    }
   ],
   "source": [
    "numbers = [(1, 4), (3, 9), (-3, 9), (4, 7), (8, 5)]\n",
    "primes = []\n",
    "\n",
    "for x, y in numbers:\n",
    "    if y == x**2:\n",
    "        primes.append((x, y))\n",
    "\n",
    "print(f\"Cặp số trong đó số thứ hai là bình phương của số đầu tiên: {primes}\")"
   ]
  },
  {
   "cell_type": "markdown",
   "id": "62cf02c3",
   "metadata": {},
   "source": [
    "**15. Điểm toạ độ**  \n",
    "\n",
    "Cho một list gồm các toạ độ của các điểm, toạ độ x, y của mỗi điểm được lưu trong một tuple như sau:  \n",
    "```python\n",
    "pts = [(0, 5), (-4, 1), (3, 5), (2, -7), (9, 1)]\n",
    "```\n",
    "\n",
    "* Tìm 3 điểm bất kỳ thuộc list đã cho thẳng hàng.   \n",
    "* Tìm 3 điểm mà tam giác được tạo thành từ 3 điểm đó có diện tích lớn nhất."
   ]
  },
  {
   "cell_type": "code",
   "execution_count": 10,
   "id": "4bb67535",
   "metadata": {},
   "outputs": [],
   "source": [
    "pts = [(0, 5), (-4, 1), (3, 5), (2, -7), (9, 1)]\n",
    "#code"
   ]
  }
 ],
 "metadata": {
  "kernelspec": {
   "display_name": "Python 3 (ipykernel)",
   "language": "python",
   "name": "python3"
  },
  "language_info": {
   "codemirror_mode": {
    "name": "ipython",
    "version": 3
   },
   "file_extension": ".py",
   "mimetype": "text/x-python",
   "name": "python",
   "nbconvert_exporter": "python",
   "pygments_lexer": "ipython3",
   "version": "3.8.2"
  }
 },
 "nbformat": 4,
 "nbformat_minor": 5
}
